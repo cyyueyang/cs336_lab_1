{
 "cells": [
  {
   "metadata": {
    "ExecuteTime": {
     "end_time": "2025-10-25T07:41:17.694040Z",
     "start_time": "2025-10-25T07:41:17.681287Z"
    }
   },
   "cell_type": "code",
   "source": [
    "import pickle\n",
    "from collections import defaultdict\n",
    "\n",
    "# 测试defaultdict是否能被pickle\n",
    "dd = defaultdict(int)\n",
    "dd[('a', 'b')] = 10\n",
    "\n",
    "try:\n",
    "    pickled = pickle.dumps(dd)\n",
    "    print(\"defaultdict can be pickled\")\n",
    "except Exception as e:\n",
    "    print(f\"defaultdict cannot be pickled: {e}\")\n"
   ],
   "id": "44394f47bca49a62",
   "outputs": [
    {
     "name": "stdout",
     "output_type": "stream",
     "text": [
      "defaultdict can be pickled\n"
     ]
    }
   ],
   "execution_count": 1
  },
  {
   "metadata": {},
   "cell_type": "code",
   "outputs": [],
   "execution_count": null,
   "source": "chr(29275)",
   "id": "b8a510ec8f55c3ea"
  },
  {
   "metadata": {},
   "cell_type": "code",
   "outputs": [],
   "execution_count": null,
   "source": "type(\"hello world\".encode(\"utf8\"))",
   "id": "53940eec3629821c"
  },
  {
   "metadata": {},
   "cell_type": "code",
   "outputs": [],
   "execution_count": null,
   "source": "len(\"你好 世界\".encode(\"utf8\")), len(\"你好 世界\")",
   "id": "29b87e0627ba35e8"
  },
  {
   "metadata": {},
   "cell_type": "markdown",
   "source": "```chr(0)``` 返回'\\x00'",
   "id": "8d03892298841fbc"
  },
  {
   "metadata": {},
   "cell_type": "code",
   "outputs": [],
   "execution_count": null,
   "source": "chr(0)",
   "id": "d930808c68c9fc64"
  },
  {
   "metadata": {},
   "cell_type": "markdown",
   "source": "打印 chr(0) 不可见",
   "id": "c57929d8b5473cc"
  },
  {
   "metadata": {},
   "cell_type": "code",
   "outputs": [],
   "execution_count": null,
   "source": "print(chr(0))",
   "id": "2246038e066a2722"
  },
  {
   "metadata": {},
   "cell_type": "code",
   "outputs": [],
   "execution_count": null,
   "source": [
    "string = \"this is a test\" + chr(0) + \"string\"\n",
    "string"
   ],
   "id": "f0a36e5aad0f82ee"
  },
  {
   "metadata": {},
   "cell_type": "code",
   "outputs": [],
   "execution_count": null,
   "source": "print(string)",
   "id": "4f532c07dcb087aa"
  },
  {
   "metadata": {},
   "cell_type": "code",
   "outputs": [],
   "execution_count": null,
   "source": [
    "test_str = \"hello 跃洋\"\n",
    "test_str_utf8 = test_str.encode(\"utf8\")\n",
    "test_str_utf8"
   ],
   "id": "e2133ceb9c0efa"
  },
  {
   "metadata": {},
   "cell_type": "code",
   "outputs": [],
   "execution_count": null,
   "source": "list(test_str_utf8)",
   "id": "6a46271001b55e39"
  },
  {
   "metadata": {},
   "cell_type": "code",
   "outputs": [],
   "execution_count": null,
   "source": "test_str_utf8.decode(\"utf-8\")",
   "id": "9970895c34be501b"
  },
  {
   "metadata": {},
   "cell_type": "code",
   "outputs": [],
   "execution_count": null,
   "source": "\"\".join([bytes([b]).decode(\"utf-8\") for b in \"hello world\".encode(\"utf8\")])",
   "id": "916c5df8fdae04c0"
  },
  {
   "metadata": {},
   "cell_type": "code",
   "outputs": [],
   "execution_count": null,
   "source": [
    "import mmap\n",
    "\n",
    "with open(\"/Users/yueyangcheng/WorkSpace/cs336/lab1/data/TinyStoriesV2-GPT4-valid.txt\", mode=\"r+\", encoding=\"utf-8\") as f:\n",
    "    with mmap.mmap(f.fileno(), 0, access=mmap.ACCESS_WRITE) as m:\n",
    "        data = m.read(10)\n",
    "        print(data)"
   ],
   "id": "257868b0b5842a30"
  },
  {
   "metadata": {},
   "cell_type": "code",
   "outputs": [],
   "execution_count": null,
   "source": [
    "from typing import List, Tuple, Dict\n",
    "from collections import defaultdict\n",
    "import mmap\n",
    "import random\n",
    "\n",
    "def load_and_sample_data(file_path: str,\n",
    "                         sample_size: int,\n",
    "                         special_tokens: str = \"<|endoftext|>\"\n",
    "                         ) -> str:\n",
    "    try:\n",
    "        with open(file_path, \"r+\", encoding=\"utf-8\") as f:\n",
    "            with mmap.mmap(f.fileno(), 0, access=mmap.ACCESS_READ) as mm:\n",
    "                documents = []\n",
    "                start = 0\n",
    "                while start < len(mm):\n",
    "                    end = mm.find(special_tokens.encode(\"utf-8\"), start)\n",
    "                    if end == -1:\n",
    "                        end = len(mm)\n",
    "                        doc = mm[start:].decode(\"utf-8\").strip()\n",
    "                        if doc:\n",
    "                            documents.append(doc)\n",
    "                        break;\n",
    "                    doc = mm[start: end].decode(\"utf-8\").strip()\n",
    "                    if doc:\n",
    "                        documents.append(doc)\n",
    "\n",
    "                    start = end + len(special_tokens)\n",
    "                if len(documents) > sample_size:\n",
    "                    documents = random.sample(documents, sample_size)\n",
    "\n",
    "                return special_tokens.join(documents)\n",
    "    except Exception as e:\n",
    "        raise IOError(f\"Error opening {file_path}: {e}\")"
   ],
   "id": "c295c359e40423fa"
  },
  {
   "metadata": {},
   "cell_type": "code",
   "outputs": [],
   "execution_count": null,
   "source": "load_and_sample_data(\"/Users/yueyangcheng/WorkSpace/cs336/lab1/data/TinyStoriesV2-GPT4-valid.txt\", sample_size=10)",
   "id": "8adb981f93fc5dcf"
  },
  {
   "metadata": {},
   "cell_type": "code",
   "outputs": [],
   "execution_count": null,
   "source": [
    "test_list = [\"hello\", \"world\", \"cyy\"]\n",
    "\"\".join(test_list)"
   ],
   "id": "5810145f91764f81"
  },
  {
   "metadata": {},
   "cell_type": "code",
   "outputs": [],
   "execution_count": null,
   "source": "list(\"\".join(test_list))",
   "id": "c7f5ed75fd20aa60"
  },
  {
   "metadata": {},
   "cell_type": "code",
   "outputs": [],
   "execution_count": null,
   "source": [
    "import regex\n",
    "\n",
    "GPT2_PAT = r\"\"\"'(?:[sdmt]|ll|ve|re)| ?\\p{L}+| ?\\p{N}+| ?[^\\s\\p{L}\\p{N}]+|\\s+(?!\\S)|\\s+\"\"\"\n",
    "\n",
    "def gpt_bytes_to_unicode_local() -> Dict[int, str]:\n",
    "    bs = list(range(33, 127)) + list(range(161, 173)) + list(range(174, 256))\n",
    "    cs = bs[:]\n",
    "\n",
    "    n = 0\n",
    "    for i in range(256):\n",
    "        if i not in bs:\n",
    "            bs.append(i)\n",
    "            cs.append(n + 256)\n",
    "            n += 1\n",
    "    return {b: chr(c) for b, c in zip(bs, cs)}\n",
    "\n",
    "def pre_tokenizer_document(doc: str, bytes_to_unicode_map: Dict[int, str]) -> List[List[str]]:\n",
    "    tokens = regex.findall(GPT2_PAT, doc, flags=regex.UNICODE)\n",
    "    sequences = []\n",
    "    for token in tokens:\n",
    "        token_unicode = \"\".join([bytes_to_unicode_map[b] for b in token.encode(\"utf-8\")])\n",
    "        sequences.append(list(token_unicode))\n",
    "\n",
    "    return sequences\n",
    "\n",
    "bytes_to_unicode_map = gpt_bytes_to_unicode_local()\n",
    "\n",
    "pre_tokenizer_document(\"hello, world cyyang\", bytes_to_unicode_map)"
   ],
   "id": "2b4c7027c2af125d"
  },
  {
   "metadata": {},
   "cell_type": "code",
   "outputs": [],
   "execution_count": null,
   "source": "regex.findall(GPT2_PAT, \"hello world , cyyang dafda\")",
   "id": "acea95cf0fef7f0d"
  },
  {
   "metadata": {},
   "cell_type": "code",
   "outputs": [],
   "execution_count": null,
   "source": [
    "from tqdm import tqdm\n",
    "import time\n",
    "\n",
    "# 示例：一个简单的循环\n",
    "for i in tqdm(range(100)):\n",
    "    time.sleep(0.1)  # 模拟耗时操作"
   ],
   "id": "da6660636eebcdef"
  },
  {
   "metadata": {},
   "cell_type": "code",
   "outputs": [],
   "execution_count": null,
   "source": "",
   "id": "b19e48441db7220c"
  }
 ],
 "metadata": {
  "kernelspec": {
   "display_name": "cs336",
   "language": "python",
   "name": "python3"
  },
  "language_info": {
   "codemirror_mode": {
    "name": "ipython",
    "version": 3
   },
   "file_extension": ".py",
   "mimetype": "text/x-python",
   "name": "python",
   "nbconvert_exporter": "python",
   "pygments_lexer": "ipython3",
   "version": "3.11.13"
  }
 },
 "nbformat": 4,
 "nbformat_minor": 5
}
