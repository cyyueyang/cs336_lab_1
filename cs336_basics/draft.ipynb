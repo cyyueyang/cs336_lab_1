{
 "cells": [
  {
   "cell_type": "code",
   "id": "291563de",
   "metadata": {
    "ExecuteTime": {
     "end_time": "2025-10-14T01:12:26.414079Z",
     "start_time": "2025-10-14T01:12:26.408489Z"
    }
   },
   "source": "ord('牛')",
   "outputs": [
    {
     "data": {
      "text/plain": [
       "29275"
      ]
     },
     "execution_count": 4,
     "metadata": {},
     "output_type": "execute_result"
    }
   ],
   "execution_count": 4
  },
  {
   "cell_type": "code",
   "id": "65f4fa7d",
   "metadata": {
    "ExecuteTime": {
     "end_time": "2025-10-14T01:12:35.015373Z",
     "start_time": "2025-10-14T01:12:35.010524Z"
    }
   },
   "source": "chr(29275)",
   "outputs": [
    {
     "data": {
      "text/plain": [
       "'牛'"
      ]
     },
     "execution_count": 5,
     "metadata": {},
     "output_type": "execute_result"
    }
   ],
   "execution_count": 5
  },
  {
   "cell_type": "code",
   "id": "afe4cb68",
   "metadata": {
    "ExecuteTime": {
     "end_time": "2025-10-14T01:13:22.302523Z",
     "start_time": "2025-10-14T01:13:22.299380Z"
    }
   },
   "source": "type(\"hello world\".encode(\"utf8\"))",
   "outputs": [
    {
     "data": {
      "text/plain": [
       "bytes"
      ]
     },
     "execution_count": 7,
     "metadata": {},
     "output_type": "execute_result"
    }
   ],
   "execution_count": 7
  },
  {
   "cell_type": "code",
   "id": "891a0bf5",
   "metadata": {
    "ExecuteTime": {
     "end_time": "2025-10-14T01:14:16.662697Z",
     "start_time": "2025-10-14T01:14:16.659728Z"
    }
   },
   "source": "len(\"你好 世界\".encode(\"utf8\")), len(\"你好 世界\")",
   "outputs": [
    {
     "data": {
      "text/plain": [
       "(13, 5)"
      ]
     },
     "execution_count": 9,
     "metadata": {},
     "output_type": "execute_result"
    }
   ],
   "execution_count": 9
  },
  {
   "metadata": {},
   "cell_type": "markdown",
   "source": "```chr(0)``` 返回'\\x00'",
   "id": "e0a46d7b0e5b7f15"
  },
  {
   "cell_type": "code",
   "id": "13c9fa41",
   "metadata": {
    "ExecuteTime": {
     "end_time": "2025-10-14T01:14:26.781951Z",
     "start_time": "2025-10-14T01:14:26.778162Z"
    }
   },
   "source": "chr(0)",
   "outputs": [
    {
     "data": {
      "text/plain": [
       "'\\x00'"
      ]
     },
     "execution_count": 10,
     "metadata": {},
     "output_type": "execute_result"
    }
   ],
   "execution_count": 10
  },
  {
   "metadata": {},
   "cell_type": "markdown",
   "source": "打印 chr(0) 不可见",
   "id": "8d9032d2a4d3ed59"
  },
  {
   "cell_type": "code",
   "id": "eb6e3819",
   "metadata": {
    "ExecuteTime": {
     "end_time": "2025-10-14T01:27:01.816660Z",
     "start_time": "2025-10-14T01:27:01.813258Z"
    }
   },
   "source": "print(chr(0))",
   "outputs": [
    {
     "name": "stdout",
     "output_type": "stream",
     "text": [
      "\u0000\n"
     ]
    }
   ],
   "execution_count": 11
  },
  {
   "cell_type": "code",
   "id": "4af8350c",
   "metadata": {
    "ExecuteTime": {
     "end_time": "2025-10-14T01:29:15.316341Z",
     "start_time": "2025-10-14T01:29:15.312374Z"
    }
   },
   "source": [
    "string = \"this is a test\" + chr(0) + \"string\"\n",
    "string"
   ],
   "outputs": [
    {
     "data": {
      "text/plain": [
       "'this is a test\\x00string'"
      ]
     },
     "execution_count": 13,
     "metadata": {},
     "output_type": "execute_result"
    }
   ],
   "execution_count": 13
  },
  {
   "cell_type": "code",
   "id": "fbfd6028",
   "metadata": {
    "ExecuteTime": {
     "end_time": "2025-10-14T01:29:16.326803Z",
     "start_time": "2025-10-14T01:29:16.323494Z"
    }
   },
   "source": "print(string)",
   "outputs": [
    {
     "name": "stdout",
     "output_type": "stream",
     "text": [
      "this is a test\u0000string\n"
     ]
    }
   ],
   "execution_count": 14
  },
  {
   "metadata": {
    "ExecuteTime": {
     "end_time": "2025-10-14T01:30:32.924184Z",
     "start_time": "2025-10-14T01:30:32.921811Z"
    }
   },
   "cell_type": "code",
   "source": [
    "test_str = \"hello 跃洋\"\n",
    "test_str_utf8 = test_str.encode(\"utf8\")\n",
    "test_str_utf8"
   ],
   "id": "7ad5964805cf7d07",
   "outputs": [
    {
     "data": {
      "text/plain": [
       "b'hello \\xe8\\xb7\\x83\\xe6\\xb4\\x8b'"
      ]
     },
     "execution_count": 15,
     "metadata": {},
     "output_type": "execute_result"
    }
   ],
   "execution_count": 15
  },
  {
   "metadata": {
    "ExecuteTime": {
     "end_time": "2025-10-14T01:30:47.077837Z",
     "start_time": "2025-10-14T01:30:47.075388Z"
    }
   },
   "cell_type": "code",
   "source": "list(test_str_utf8)",
   "id": "c52bd633df897502",
   "outputs": [
    {
     "data": {
      "text/plain": [
       "[104, 101, 108, 108, 111, 32, 232, 183, 131, 230, 180, 139]"
      ]
     },
     "execution_count": 16,
     "metadata": {},
     "output_type": "execute_result"
    }
   ],
   "execution_count": 16
  },
  {
   "metadata": {
    "ExecuteTime": {
     "end_time": "2025-10-14T01:31:12.772010Z",
     "start_time": "2025-10-14T01:31:12.768785Z"
    }
   },
   "cell_type": "code",
   "source": "test_str_utf8.decode(\"utf-8\")",
   "id": "5511a33f37c7b1ef",
   "outputs": [
    {
     "data": {
      "text/plain": [
       "'hello 跃洋'"
      ]
     },
     "execution_count": 17,
     "metadata": {},
     "output_type": "execute_result"
    }
   ],
   "execution_count": 17
  },
  {
   "metadata": {
    "ExecuteTime": {
     "end_time": "2025-10-14T01:38:32.234997Z",
     "start_time": "2025-10-14T01:38:32.230639Z"
    }
   },
   "cell_type": "code",
   "source": "\"\".join([bytes([b]).decode(\"utf-8\") for b in \"hello world\".encode(\"utf8\")])",
   "id": "3d1272f7f38a3e34",
   "outputs": [
    {
     "data": {
      "text/plain": [
       "'hello world'"
      ]
     },
     "execution_count": 24,
     "metadata": {},
     "output_type": "execute_result"
    }
   ],
   "execution_count": 24
  },
  {
   "metadata": {
    "ExecuteTime": {
     "end_time": "2025-10-14T03:18:13.065636Z",
     "start_time": "2025-10-14T03:18:13.055861Z"
    }
   },
   "cell_type": "code",
   "source": [
    "import mmap\n",
    "\n",
    "with open(\"/Users/yueyangcheng/WorkSpace/cs336/lab1/data/TinyStoriesV2-GPT4-valid.txt\", mode=\"r+\", encoding=\"utf-8\") as f:\n",
    "    with mmap.mmap(f.fileno(), 0, access=mmap.ACCESS_WRITE) as m:\n",
    "        data = m.read(10)\n",
    "        print(data)"
   ],
   "id": "639f77f2117d4fd5",
   "outputs": [
    {
     "name": "stdout",
     "output_type": "stream",
     "text": [
      "b\"u don't ha\"\n"
     ]
    }
   ],
   "execution_count": 2
  },
  {
   "metadata": {
    "ExecuteTime": {
     "end_time": "2025-10-14T06:29:17.745564Z",
     "start_time": "2025-10-14T06:29:17.739337Z"
    }
   },
   "cell_type": "code",
   "source": [
    "from typing import List, Tuple, Dict\n",
    "from collections import defaultdict\n",
    "import mmap\n",
    "import random\n",
    "\n",
    "def load_and_sample_data(file_path: str,\n",
    "                         sample_size: int,\n",
    "                         special_tokens: str = \"<|endoftext|>\"\n",
    "                         ) -> str:\n",
    "    try:\n",
    "        with open(file_path, \"r+\", encoding=\"utf-8\") as f:\n",
    "            with mmap.mmap(f.fileno(), 0, access=mmap.ACCESS_READ) as mm:\n",
    "                documents = []\n",
    "                start = 0\n",
    "                while start < len(mm):\n",
    "                    end = mm.find(special_tokens.encode(\"utf-8\"), start)\n",
    "                    if end == -1:\n",
    "                        end = len(mm)\n",
    "                        doc = mm[start:].decode(\"utf-8\").strip()\n",
    "                        if doc:\n",
    "                            documents.append(doc)\n",
    "                        break;\n",
    "                    doc = mm[start: end].decode(\"utf-8\").strip()\n",
    "                    if doc:\n",
    "                        documents.append(doc)\n",
    "\n",
    "                    start = end + len(special_tokens)\n",
    "                if len(documents) > sample_size:\n",
    "                    documents = random.sample(documents, sample_size)\n",
    "\n",
    "                return special_tokens.join(documents)\n",
    "    except Exception as e:\n",
    "        raise IOError(f\"Error opening {file_path}: {e}\")"
   ],
   "id": "cdc5264ffd2a4347",
   "outputs": [],
   "execution_count": 3
  },
  {
   "metadata": {
    "ExecuteTime": {
     "end_time": "2025-10-14T06:29:47.299748Z",
     "start_time": "2025-10-14T06:29:47.234371Z"
    }
   },
   "cell_type": "code",
   "source": "load_and_sample_data(\"/Users/yueyangcheng/WorkSpace/cs336/lab1/data/TinyStoriesV2-GPT4-valid.txt\", sample_size=10)",
   "id": "1d3eb85e2023601a",
   "outputs": [
    {
     "data": {
      "text/plain": [
       "'One day, a pretty bird sat in the yard. It could whistle a nice song. Tim, a little boy, heard the bird and ran to see it. He liked the bird\\'s song and wanted to be friends.\\n\"Hi bird! Can you be my friend?\" Tim asked. The bird looked at Tim and whistled a happy tune. Tim was so happy to have a new friend.\\nBut then, something strange happened. The bird changed! It was not a bird anymore. It was a big, friendly dog. Tim was so surprised, but he was even more happy. Now, he had a dog friend who could whistle. They played in the yard all day, and Tim taught the dog more songs to whistle.<|endoftext|>One day, a dog named Max found a whistle in the park. He picked it up with his mouth and ran home. Max wanted to show his friend, Tom the cat, his new toy.\\nMax showed the whistle to Tom and said, \"Look, I found a whistle!\" Tom was tired but wanted to play. So, they went outside to play with the whistle. Max dropped the whistle, and Tom blew on it. It made a loud sound. They laughed and played with the whistle all day.\\nSoon, it was time to water the plants. Max and Tom took turns using the hose to spray the water on the plants. They had fun spraying each other too! At the end of the day, they were very tired but happy. They went inside and took a good nap.<|endoftext|>Once upon a time, in a small village, there was an adorable little girl named Lily. Lily loved to play with her friends and look for shiny things. One day, she found a pretty gem while playing in the park. She was so happy and showed her friends her new treasure.\\nLily\\'s mommy told her to be careful with her gem, and to always say \"please\" when she wanted something. Lily promised to be good and always use her manners. She kept her gem in a special box in her room, and every night, she would look at it before going to bed.\\nOne day, Lily\\'s friend Timmy came over to play. Timmy saw the gem and wanted to hold it, but he didn\\'t say \"please.\" Lily remembered what her mommy said and told Timmy to say \"please\" first. Timmy said \"please,\" and Lily let him hold her gem. They both smiled and played together, knowing that using good manners made them better friends.<|endoftext|>Once upon a time, in a humble little house, there lived a nice family with a dog named Spot. The house was their shelter, where they felt safe and warm. Spot loved his family and always played with the kids.\\nOne sunny day, the family went to the park. They played and had fun. Spot was so happy, he ran and jumped around. The family had a big picnic with yummy food. But, Spot wanted to spoil the fun.\\nSpot saw the food and wanted to eat it all. He jumped on the table and grabbed some food. The family saw him and said, \"No, Spot! You can\\'t spoil our picnic!\" Spot felt sad and went back to his shelter, the humble little house.\\nThe family still loved Spot, even though he tried to spoil the fun. They knew he was just being a silly dog. They all went home and had a good night\\'s sleep in their shelter, the humble little house.<|endoftext|>Once there were two friends. One was called Terry and the other was called Sarah. They were playing a game. The game was a lot of fun and it made them laugh. \\nToday when they were playing the game, Sarah was winning. She had the higher score. Terry felt a bit sad. \\n\"I want to win,\" he said to Sarah.\\nSarah smiled and said \"Don\\'t worry Terry. We can play something else. It\\'ll be more interesting.\" \\nTerry agreed and they chose a different game. This time they both wanted to win. They both tried their best. At the end of the game, Sarah won again! \\nTerry was sad but Sarah said \"It\\'s ok. Let\\'s just relax.\" So they stopped playing and Terry felt better. Even though he didn\\'t win, he had fun playing with Sarah.<|endoftext|>Mary and her father were walking in the park when they came across a well. Mary was fascinated and asked her father what it was. “This is a well,” he said. “It’s a deep hole that has a lot of water inside.”\\nMary was curious and asked her father if she could look inside. He said yes, so they went closer and looked over the edge. The well was very dark and dirty.\\n“Look,” said Mary, pointing inside. “What’s that?”\\n“It looks like a bucket,” her father said.\\n“Can I send it down?” asked Mary.\\n“Sure,” her father said.\\nSo Mary took a stick and dropped it into the well. Then she waited and watched. After a few moments, the bucket rose from the well, with water inside.\\n“Look,” her father said, pointing to the bucket. “You sent it down and now it’s come back!” \\nMary was so excited and they both watched in amazement.\\n“That was so cool,” said Mary. “Can I do it again?”\\n“We can try,” said her father.\\nSo Mary sent the bucket down the well again, and<|endoftext|>Tom and Lily were friends who liked to race. They raced on their bikes, on their feet, and on their sleds. They always had fun, but sometimes they argued about who was faster.\\nOne day, they saw a big hill with snow. They wanted to race down the hill on their sleds. They found two sleds near the hill. One was red and shiny, and one was gray and old.\\n\"I want the red sled!\" Tom said. \"It looks faster and nicer!\"\\n\"No, I want the red sled!\" Lily said. \"You always get the best things!\"\\nThey both grabbed the red sled and pulled hard. They did not see the boy who owned the sled. He was angry and shouted at them.\\n\"Hey, that\\'s my sled! Give it back!\"\\nBut Tom and Lily did not listen. They let go of the sled and it slid down the hill. They ran after it, hoping to catch it.\\nThe boy was sad and picked up the gray sled. He decided to go down the hill too. He got on the sled and pushed off.\\nTom and Lily reached the bottom of the hill, but they did not find the red sled. They looked around and saw it in the distance. It had crashed into a tree and broken into pieces.\\nThey felt sorry and scared. They had broken someone else\\'s sled and they did not even say sorry.\\nThey looked up and saw the boy on the gray sled. He was smiling and waving at them. He had reached the end of the hill safely and had fun.\\nHe stopped near them and said, \"Do you want to try my sled? It\\'s not very pretty, but it works well.\"\\nTom and Lily felt ashamed and said, \"No, thank you. We\\'re sorry we took your sled. We were wrong and selfish.\"\\nThe boy nodded and said, \"It\\'s okay. I forgive you. But next time, you should ask before you take something. And you should not judge by the color. Sometimes, the gray things are better than the red things.\"\\nTom and Lily learned their lesson. They thanked the boy and walked away. They did not race anymore that day. They felt sad and sorry for what they had done.\\nThe moral of the story is: Do not take what is not yours. Do not judge by the color. Be kind and share.<|endoftext|>One day, a little girl named Amy went for a walk. She saw a pretty flower and decided to pick it up. She thought it was very important, so she wanted to show it to her best friend, Tim.\\n\"Look, Tim!\" said Amy. \"I found a very important flower. Isn\\'t it pretty?\" Tim looked at the flower and nodded. He thought it was very pretty too. They decided to keep the flower safe together.\\nBut then, something unexpected happened. A tiny, friendly bug crawled out of the flower! Amy and Tim were surprised, but they were not scared. The tiny bug thanked them for picking up the flower because it was its home. Now, the flower was even more important to them because they had a new tiny friend.<|endoftext|>One day, a cat and a dog were playing in the park. The cat was very good at hiding, and the dog was good at finding. They liked to play hide and seek together.\\nThe cat said, \"Let\\'s play hide and seek! I will hide first.\" The dog agreed and started to count. The cat ran and hid behind a strip of bushes. The dog finished counting and began to look for the cat.\\nThe dog looked high and low, but could not find the cat. The cat was hiding very well. Finally, the dog found the cat behind the strip of bushes. The cat said, \"You found me! Now it\\'s your turn to hide.\"\\nThe dog hid, and the cat started to count. The dog found a fine spot to hide behind a big tree. The cat looked and looked, but could not find the dog. At last, the cat found the dog behind the big tree.\\nThey both laughed and said, \"Hide and seek is so much fun! Let\\'s play again!\" And they continued to play, having a great time in the park.<|endoftext|>Once upon a time, there was a lazy cat named Tom. Tom did not like to work. He liked to sleep all day. Tom had a big garden with lots of vegetables.\\nOne day, Tom\\'s mom told him to remove the bad vegetables from the garden. Tom did not want to do it. He wanted to sleep. But his mom said he must do it.\\nTom went to the garden. He saw some big, green vegetables and some small, brown ones. He knew the brown ones were bad. Tom removed the bad vegetables and put them in a pile. When he was done, his mom was happy. Tom felt good about helping, and he was not so lazy anymore.'"
      ]
     },
     "execution_count": 4,
     "metadata": {},
     "output_type": "execute_result"
    }
   ],
   "execution_count": 4
  },
  {
   "metadata": {
    "ExecuteTime": {
     "end_time": "2025-10-14T11:38:19.702439Z",
     "start_time": "2025-10-14T11:38:19.699590Z"
    }
   },
   "cell_type": "code",
   "source": [
    "test_list = [\"hello\", \"world\", \"cyy\"]\n",
    "\"\".join(test_list)"
   ],
   "id": "3ac2493a84f2640",
   "outputs": [
    {
     "data": {
      "text/plain": [
       "'helloworldcyy'"
      ]
     },
     "execution_count": 5,
     "metadata": {},
     "output_type": "execute_result"
    }
   ],
   "execution_count": 5
  },
  {
   "metadata": {
    "ExecuteTime": {
     "end_time": "2025-10-14T11:38:41.166835Z",
     "start_time": "2025-10-14T11:38:41.163185Z"
    }
   },
   "cell_type": "code",
   "source": "list(\"\".join(test_list))",
   "id": "74972eb4179acade",
   "outputs": [
    {
     "data": {
      "text/plain": [
       "['h', 'e', 'l', 'l', 'o', 'w', 'o', 'r', 'l', 'd', 'c', 'y', 'y']"
      ]
     },
     "execution_count": 6,
     "metadata": {},
     "output_type": "execute_result"
    }
   ],
   "execution_count": 6
  },
  {
   "metadata": {
    "ExecuteTime": {
     "end_time": "2025-10-14T12:55:28.974792Z",
     "start_time": "2025-10-14T12:55:28.946205Z"
    }
   },
   "cell_type": "code",
   "source": [
    "import regex\n",
    "\n",
    "GPT2_PAT = r\"\"\"'(?:[sdmt]|ll|ve|re)| ?\\p{L}+| ?\\p{N}+| ?[^\\s\\p{L}\\p{N}]+|\\s+(?!\\S)|\\s+\"\"\"\n",
    "\n",
    "def gpt_bytes_to_unicode_local() -> Dict[int, str]:\n",
    "    bs = list(range(33, 127)) + list(range(161, 173)) + list(range(174, 256))\n",
    "    cs = bs[:]\n",
    "\n",
    "    n = 0\n",
    "    for i in range(256):\n",
    "        if i not in bs:\n",
    "            bs.append(i)\n",
    "            cs.append(n + 256)\n",
    "            n += 1\n",
    "    return {b: chr(c) for b, c in zip(bs, cs)}\n",
    "\n",
    "def pre_tokenizer_document(doc: str, bytes_to_unicode_map: Dict[int, str]) -> List[List[str]]:\n",
    "    tokens = regex.findall(GPT2_PAT, doc, flags=regex.UNICODE)\n",
    "    sequences = []\n",
    "    for token in tokens:\n",
    "        token_unicode = \"\".join([bytes_to_unicode_map[b] for b in token.encode(\"utf-8\")])\n",
    "        sequences.append(list(token_unicode))\n",
    "\n",
    "    return sequences\n",
    "\n",
    "bytes_to_unicode_map = gpt_bytes_to_unicode_local()\n",
    "\n",
    "pre_tokenizer_document(\"hello, world cyyang\", bytes_to_unicode_map)"
   ],
   "id": "b078b60e0ccc8f47",
   "outputs": [
    {
     "data": {
      "text/plain": [
       "[['h', 'e', 'l', 'l', 'o'],\n",
       " [','],\n",
       " ['Ġ', 'w', 'o', 'r', 'l', 'd'],\n",
       " ['Ġ', 'c', 'y', 'y', 'a', 'n', 'g']]"
      ]
     },
     "execution_count": 7,
     "metadata": {},
     "output_type": "execute_result"
    }
   ],
   "execution_count": 7
  },
  {
   "metadata": {
    "ExecuteTime": {
     "end_time": "2025-10-14T12:56:17.437750Z",
     "start_time": "2025-10-14T12:56:17.435129Z"
    }
   },
   "cell_type": "code",
   "source": "regex.findall(GPT2_PAT, \"hello world , cyyang dafda\")",
   "id": "838efdc4dbe2ead7",
   "outputs": [
    {
     "data": {
      "text/plain": [
       "['hello', ' world', ' ,', ' cyyang', ' dafda']"
      ]
     },
     "execution_count": 10,
     "metadata": {},
     "output_type": "execute_result"
    }
   ],
   "execution_count": 10
  },
  {
   "metadata": {
    "ExecuteTime": {
     "end_time": "2025-10-16T01:32:03.641987Z",
     "start_time": "2025-10-16T01:31:53.128586Z"
    }
   },
   "cell_type": "code",
   "source": [
    "from tqdm import tqdm\n",
    "import time\n",
    "\n",
    "# 示例：一个简单的循环\n",
    "for i in tqdm(range(100)):\n",
    "    time.sleep(0.1)  # 模拟耗时操作"
   ],
   "id": "ac806f5b2f52ea4",
   "outputs": [
    {
     "name": "stderr",
     "output_type": "stream",
     "text": [
      "100%|██████████| 100/100 [00:10<00:00,  9.53it/s]\n"
     ]
    }
   ],
   "execution_count": 2
  },
  {
   "metadata": {},
   "cell_type": "code",
   "outputs": [],
   "execution_count": null,
   "source": "",
   "id": "6d0e0ae0446819a6"
  }
 ],
 "metadata": {
  "kernelspec": {
   "display_name": "cs336",
   "language": "python",
   "name": "python3"
  },
  "language_info": {
   "codemirror_mode": {
    "name": "ipython",
    "version": 3
   },
   "file_extension": ".py",
   "mimetype": "text/x-python",
   "name": "python",
   "nbconvert_exporter": "python",
   "pygments_lexer": "ipython3",
   "version": "3.11.13"
  }
 },
 "nbformat": 4,
 "nbformat_minor": 5
}
